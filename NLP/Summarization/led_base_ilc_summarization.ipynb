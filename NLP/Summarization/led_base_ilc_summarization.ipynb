{
  "nbformat": 4,
  "nbformat_minor": 0,
  "metadata": {
    "colab": {
      "name": "led-base-ilc summarization.ipynb",
      "provenance": [],
      "collapsed_sections": []
    },
    "kernelspec": {
      "name": "python3",
      "display_name": "Python 3"
    },
    "language_info": {
      "name": "python"
    },
    "accelerator": "GPU"
  },
  "cells": [
    {
      "cell_type": "markdown",
      "source": [
        "This notebook shows how to summarize ILC documents with 🤗 Datasets and 🤗Transformers, and compares the results of `led-base-ilc` with `led-base-16384` with 10 samples.\n",
        "\n",
        "You can summarize for more samples with the same code."
      ],
      "metadata": {
        "id": "JFnyy8wy1N55"
      }
    },
    {
      "cell_type": "markdown",
      "source": [
        "Author: [Pawan Trivedi](https://twitter.com/d0r1h) <br>\n",
        "Date created: 2022/05/05 <br>\n",
        "Last modified: 2022/05/05 <br>\n",
        "Description: Using LED for summarization task"
      ],
      "metadata": {
        "id": "FAu5nlMH1Ve2"
      }
    },
    {
      "cell_type": "markdown",
      "source": [
        "Following are the checkpoints used in this notebook\n",
        "\n",
        "1. [led-base-16384](https://huggingface.co/allenai/led-base-16384)\n",
        "2. [led-base-ilc](https://huggingface.co/d0r1h/led-base-ilc)"
      ],
      "metadata": {
        "id": "P2WMlbHT1Vbm"
      }
    },
    {
      "cell_type": "code",
      "source": [
        "# Installation Library\n",
        "\n",
        "!pip install transformers datasets sentencepiece rouge -qq"
      ],
      "metadata": {
        "id": "qTw0p5VVeqTV"
      },
      "execution_count": 1,
      "outputs": []
    },
    {
      "cell_type": "code",
      "source": [
        "import torch\n",
        "import pandas as pd\n",
        "from rouge import Rouge\n",
        "from transformers import pipeline\n",
        "from datasets import load_dataset\n",
        "from transformers import AutoModelForSeq2SeqLM, AutoTokenizer"
      ],
      "metadata": {
        "id": "olWaNBkceqQV"
      },
      "execution_count": 2,
      "outputs": []
    },
    {
      "cell_type": "code",
      "source": [
        "rouge = Rouge()\n",
        "\n",
        "dataset = load_dataset(\"d0r1h/ILC\", split='test')"
      ],
      "metadata": {
        "id": "wDt_qByReqOR"
      },
      "execution_count": null,
      "outputs": []
    },
    {
      "cell_type": "code",
      "source": [
        "dataset"
      ],
      "metadata": {
        "colab": {
          "base_uri": "https://localhost:8080/"
        },
        "id": "l6ir_e6oeqMg",
        "outputId": "23c23aa1-ba8c-46e2-e565-26dcd245a4cf"
      },
      "execution_count": 4,
      "outputs": [
        {
          "output_type": "execute_result",
          "data": {
            "text/plain": [
              "Dataset({\n",
              "    features: ['Title', 'Summary', 'Case'],\n",
              "    num_rows: 1015\n",
              "})"
            ]
          },
          "metadata": {},
          "execution_count": 4
        }
      ]
    },
    {
      "cell_type": "code",
      "source": [
        "def summarize(checkpoint):\n",
        "\n",
        "  \"\"\"\n",
        "    Helper function to summarize the text\n",
        "  \"\"\"\n",
        "  \n",
        "  tokenizer = AutoTokenizer.from_pretrained(checkpoint)\n",
        "  model = AutoModelForSeq2SeqLM.from_pretrained(checkpoint).to(device)\n",
        "\n",
        "  SystemSummaries = []\n",
        "  for i, case in enumerate(CasesText):\n",
        "      \n",
        "      input_ids = tokenizer(case, return_tensors=\"pt\").input_ids.to(device)\n",
        "      global_attention_mask = torch.zeros_like(input_ids)\n",
        "      global_attention_mask[:, 0] = 1\n",
        "      if checkpoint == \"led-base-16384\":\n",
        "        sequences = model.generate(input_ids, global_attention_mask=global_attention_mask).sequences\n",
        "      else:\n",
        "        sequences = model.generate(input_ids, global_attention_mask=global_attention_mask)\n",
        "      Summary = tokenizer.batch_decode(sequences, skip_special_tokens=True)\n",
        "\n",
        "      SystemSummaries.append(Summary)\n",
        "      print(i)\n",
        "\n",
        "  return SystemSummaries"
      ],
      "metadata": {
        "id": "ll0Ii7prhsjt"
      },
      "execution_count": 5,
      "outputs": []
    },
    {
      "cell_type": "code",
      "source": [
        "CasesText = dataset['Case'][:10]\n",
        "GoldSummary = dataset['Summary'][:10]"
      ],
      "metadata": {
        "id": "qwTK0LpYiDLE"
      },
      "execution_count": 6,
      "outputs": []
    },
    {
      "cell_type": "code",
      "source": [
        "device = \"cuda\" if torch.cuda.is_available() else \"cpu\""
      ],
      "metadata": {
        "id": "q5POtt-CiQtH"
      },
      "execution_count": 7,
      "outputs": []
    },
    {
      "cell_type": "markdown",
      "source": [
        "### **led-base-ilc**"
      ],
      "metadata": {
        "id": "6Lyb45s8hf-1"
      }
    },
    {
      "cell_type": "code",
      "source": [
        "checkpoint1 = \"d0r1h/led-base-ilc\"\n",
        "\n",
        "tokenizer1 = AutoTokenizer.from_pretrained(checkpoint1)\n",
        "model1 = AutoModelForSeq2SeqLM.from_pretrained(checkpoint1).to(device)"
      ],
      "metadata": {
        "id": "7h3Qhc82hhmA"
      },
      "execution_count": 8,
      "outputs": []
    },
    {
      "cell_type": "code",
      "source": [
        "SystemSummary1 = summarize(checkpoint1)"
      ],
      "metadata": {
        "id": "w_P11SfFhhjn"
      },
      "execution_count": null,
      "outputs": []
    },
    {
      "cell_type": "code",
      "source": [
        "SystemSummaryFinal1 = []\n",
        "\n",
        "for i in SystemSummary1:\n",
        "  SystemSummaryFinal1.append((i[0]))"
      ],
      "metadata": {
        "id": "ZhYY-P1dhhho"
      },
      "execution_count": 10,
      "outputs": []
    },
    {
      "cell_type": "code",
      "source": [
        "Summaries1 = pd.DataFrame(list(zip(GoldSummary, SystemSummaryFinal1)), columns =['GoldSummary', 'SystemSummary'])"
      ],
      "metadata": {
        "id": "MbWppqMIhhfg"
      },
      "execution_count": 11,
      "outputs": []
    },
    {
      "cell_type": "code",
      "source": [
        "score1 = rouge.get_scores(Summaries1['SystemSummary'], Summaries1['GoldSummary'], avg=True)"
      ],
      "metadata": {
        "id": "Ida9Ew-Jhhc7"
      },
      "execution_count": 12,
      "outputs": []
    },
    {
      "cell_type": "code",
      "source": [
        "pd.DataFrame(score1).set_index([['recall','precision','f-measure']])*100"
      ],
      "metadata": {
        "colab": {
          "base_uri": "https://localhost:8080/",
          "height": 143
        },
        "id": "HHSTt1ZhhhaF",
        "outputId": "a60fb094-9552-4af9-9e47-6be61e0737a9"
      },
      "execution_count": 13,
      "outputs": [
        {
          "output_type": "execute_result",
          "data": {
            "text/plain": [
              "             rouge-1    rouge-2    rouge-l\n",
              "recall     39.303019  21.308610  36.348632\n",
              "precision  47.910470  24.723998  44.378273\n",
              "f-measure  42.625963  22.451412  39.452514"
            ],
            "text/html": [
              "\n",
              "  <div id=\"df-9b0f6c68-05a7-4cdb-8203-eeee1e26594d\">\n",
              "    <div class=\"colab-df-container\">\n",
              "      <div>\n",
              "<style scoped>\n",
              "    .dataframe tbody tr th:only-of-type {\n",
              "        vertical-align: middle;\n",
              "    }\n",
              "\n",
              "    .dataframe tbody tr th {\n",
              "        vertical-align: top;\n",
              "    }\n",
              "\n",
              "    .dataframe thead th {\n",
              "        text-align: right;\n",
              "    }\n",
              "</style>\n",
              "<table border=\"1\" class=\"dataframe\">\n",
              "  <thead>\n",
              "    <tr style=\"text-align: right;\">\n",
              "      <th></th>\n",
              "      <th>rouge-1</th>\n",
              "      <th>rouge-2</th>\n",
              "      <th>rouge-l</th>\n",
              "    </tr>\n",
              "  </thead>\n",
              "  <tbody>\n",
              "    <tr>\n",
              "      <th>recall</th>\n",
              "      <td>39.303019</td>\n",
              "      <td>21.308610</td>\n",
              "      <td>36.348632</td>\n",
              "    </tr>\n",
              "    <tr>\n",
              "      <th>precision</th>\n",
              "      <td>47.910470</td>\n",
              "      <td>24.723998</td>\n",
              "      <td>44.378273</td>\n",
              "    </tr>\n",
              "    <tr>\n",
              "      <th>f-measure</th>\n",
              "      <td>42.625963</td>\n",
              "      <td>22.451412</td>\n",
              "      <td>39.452514</td>\n",
              "    </tr>\n",
              "  </tbody>\n",
              "</table>\n",
              "</div>\n",
              "      <button class=\"colab-df-convert\" onclick=\"convertToInteractive('df-9b0f6c68-05a7-4cdb-8203-eeee1e26594d')\"\n",
              "              title=\"Convert this dataframe to an interactive table.\"\n",
              "              style=\"display:none;\">\n",
              "        \n",
              "  <svg xmlns=\"http://www.w3.org/2000/svg\" height=\"24px\"viewBox=\"0 0 24 24\"\n",
              "       width=\"24px\">\n",
              "    <path d=\"M0 0h24v24H0V0z\" fill=\"none\"/>\n",
              "    <path d=\"M18.56 5.44l.94 2.06.94-2.06 2.06-.94-2.06-.94-.94-2.06-.94 2.06-2.06.94zm-11 1L8.5 8.5l.94-2.06 2.06-.94-2.06-.94L8.5 2.5l-.94 2.06-2.06.94zm10 10l.94 2.06.94-2.06 2.06-.94-2.06-.94-.94-2.06-.94 2.06-2.06.94z\"/><path d=\"M17.41 7.96l-1.37-1.37c-.4-.4-.92-.59-1.43-.59-.52 0-1.04.2-1.43.59L10.3 9.45l-7.72 7.72c-.78.78-.78 2.05 0 2.83L4 21.41c.39.39.9.59 1.41.59.51 0 1.02-.2 1.41-.59l7.78-7.78 2.81-2.81c.8-.78.8-2.07 0-2.86zM5.41 20L4 18.59l7.72-7.72 1.47 1.35L5.41 20z\"/>\n",
              "  </svg>\n",
              "      </button>\n",
              "      \n",
              "  <style>\n",
              "    .colab-df-container {\n",
              "      display:flex;\n",
              "      flex-wrap:wrap;\n",
              "      gap: 12px;\n",
              "    }\n",
              "\n",
              "    .colab-df-convert {\n",
              "      background-color: #E8F0FE;\n",
              "      border: none;\n",
              "      border-radius: 50%;\n",
              "      cursor: pointer;\n",
              "      display: none;\n",
              "      fill: #1967D2;\n",
              "      height: 32px;\n",
              "      padding: 0 0 0 0;\n",
              "      width: 32px;\n",
              "    }\n",
              "\n",
              "    .colab-df-convert:hover {\n",
              "      background-color: #E2EBFA;\n",
              "      box-shadow: 0px 1px 2px rgba(60, 64, 67, 0.3), 0px 1px 3px 1px rgba(60, 64, 67, 0.15);\n",
              "      fill: #174EA6;\n",
              "    }\n",
              "\n",
              "    [theme=dark] .colab-df-convert {\n",
              "      background-color: #3B4455;\n",
              "      fill: #D2E3FC;\n",
              "    }\n",
              "\n",
              "    [theme=dark] .colab-df-convert:hover {\n",
              "      background-color: #434B5C;\n",
              "      box-shadow: 0px 1px 3px 1px rgba(0, 0, 0, 0.15);\n",
              "      filter: drop-shadow(0px 1px 2px rgba(0, 0, 0, 0.3));\n",
              "      fill: #FFFFFF;\n",
              "    }\n",
              "  </style>\n",
              "\n",
              "      <script>\n",
              "        const buttonEl =\n",
              "          document.querySelector('#df-9b0f6c68-05a7-4cdb-8203-eeee1e26594d button.colab-df-convert');\n",
              "        buttonEl.style.display =\n",
              "          google.colab.kernel.accessAllowed ? 'block' : 'none';\n",
              "\n",
              "        async function convertToInteractive(key) {\n",
              "          const element = document.querySelector('#df-9b0f6c68-05a7-4cdb-8203-eeee1e26594d');\n",
              "          const dataTable =\n",
              "            await google.colab.kernel.invokeFunction('convertToInteractive',\n",
              "                                                     [key], {});\n",
              "          if (!dataTable) return;\n",
              "\n",
              "          const docLinkHtml = 'Like what you see? Visit the ' +\n",
              "            '<a target=\"_blank\" href=https://colab.research.google.com/notebooks/data_table.ipynb>data table notebook</a>'\n",
              "            + ' to learn more about interactive tables.';\n",
              "          element.innerHTML = '';\n",
              "          dataTable['output_type'] = 'display_data';\n",
              "          await google.colab.output.renderOutput(dataTable, element);\n",
              "          const docLink = document.createElement('div');\n",
              "          docLink.innerHTML = docLinkHtml;\n",
              "          element.appendChild(docLink);\n",
              "        }\n",
              "      </script>\n",
              "    </div>\n",
              "  </div>\n",
              "  "
            ]
          },
          "metadata": {},
          "execution_count": 13
        }
      ]
    },
    {
      "cell_type": "markdown",
      "source": [
        "### **led_base**"
      ],
      "metadata": {
        "id": "43pMpE3OegBL"
      }
    },
    {
      "cell_type": "code",
      "source": [
        "checkpoint2 = 'allenai/led-base-16384'\n",
        "\n",
        "tokenizer2 = AutoTokenizer.from_pretrained(checkpoint2)\n",
        "model2 = AutoModelForSeq2SeqLM.from_pretrained(checkpoint2, return_dict_in_generate=True).to(device)"
      ],
      "metadata": {
        "id": "PSmjokoeeaib"
      },
      "execution_count": 14,
      "outputs": []
    },
    {
      "cell_type": "code",
      "source": [
        "SystemSummary2 = summarize(checkpoint2)"
      ],
      "metadata": {
        "id": "gIdxL4Qreiot"
      },
      "execution_count": null,
      "outputs": []
    },
    {
      "cell_type": "code",
      "source": [
        "SystemSummaryFinal2 = []\n",
        "\n",
        "for i in SystemSummary2:\n",
        "  SystemSummaryFinal2.append((i[0]))"
      ],
      "metadata": {
        "id": "gnPf1CsPg9sJ"
      },
      "execution_count": 16,
      "outputs": []
    },
    {
      "cell_type": "code",
      "source": [
        "Summaries2 = pd.DataFrame(list(zip(GoldSummary, SystemSummaryFinal2)), columns =['GoldSummary', 'SystemSummary'])"
      ],
      "metadata": {
        "id": "dB9p79NzhEDi"
      },
      "execution_count": 17,
      "outputs": []
    },
    {
      "cell_type": "code",
      "source": [
        "score2 = rouge.get_scores(Summaries2['SystemSummary'], Summaries2['GoldSummary'], avg=True)"
      ],
      "metadata": {
        "id": "zp0DT2YWhHAZ"
      },
      "execution_count": 18,
      "outputs": []
    },
    {
      "cell_type": "code",
      "source": [
        "pd.DataFrame(score2).set_index([['recall','precision','f-measure']])*100"
      ],
      "metadata": {
        "colab": {
          "base_uri": "https://localhost:8080/",
          "height": 143
        },
        "id": "KV7j0U-AhJau",
        "outputId": "8f72cab7-ce73-4839-cd19-cc7188f45bb1"
      },
      "execution_count": 19,
      "outputs": [
        {
          "output_type": "execute_result",
          "data": {
            "text/plain": [
              "             rouge-1    rouge-2    rouge-l\n",
              "recall      1.957264   0.628321   1.877908\n",
              "precision  39.643357  21.149684  37.976690\n",
              "f-measure   3.722952   1.218350   3.571858"
            ],
            "text/html": [
              "\n",
              "  <div id=\"df-a9179180-581b-4bdf-9b84-99abc5becaec\">\n",
              "    <div class=\"colab-df-container\">\n",
              "      <div>\n",
              "<style scoped>\n",
              "    .dataframe tbody tr th:only-of-type {\n",
              "        vertical-align: middle;\n",
              "    }\n",
              "\n",
              "    .dataframe tbody tr th {\n",
              "        vertical-align: top;\n",
              "    }\n",
              "\n",
              "    .dataframe thead th {\n",
              "        text-align: right;\n",
              "    }\n",
              "</style>\n",
              "<table border=\"1\" class=\"dataframe\">\n",
              "  <thead>\n",
              "    <tr style=\"text-align: right;\">\n",
              "      <th></th>\n",
              "      <th>rouge-1</th>\n",
              "      <th>rouge-2</th>\n",
              "      <th>rouge-l</th>\n",
              "    </tr>\n",
              "  </thead>\n",
              "  <tbody>\n",
              "    <tr>\n",
              "      <th>recall</th>\n",
              "      <td>1.957264</td>\n",
              "      <td>0.628321</td>\n",
              "      <td>1.877908</td>\n",
              "    </tr>\n",
              "    <tr>\n",
              "      <th>precision</th>\n",
              "      <td>39.643357</td>\n",
              "      <td>21.149684</td>\n",
              "      <td>37.976690</td>\n",
              "    </tr>\n",
              "    <tr>\n",
              "      <th>f-measure</th>\n",
              "      <td>3.722952</td>\n",
              "      <td>1.218350</td>\n",
              "      <td>3.571858</td>\n",
              "    </tr>\n",
              "  </tbody>\n",
              "</table>\n",
              "</div>\n",
              "      <button class=\"colab-df-convert\" onclick=\"convertToInteractive('df-a9179180-581b-4bdf-9b84-99abc5becaec')\"\n",
              "              title=\"Convert this dataframe to an interactive table.\"\n",
              "              style=\"display:none;\">\n",
              "        \n",
              "  <svg xmlns=\"http://www.w3.org/2000/svg\" height=\"24px\"viewBox=\"0 0 24 24\"\n",
              "       width=\"24px\">\n",
              "    <path d=\"M0 0h24v24H0V0z\" fill=\"none\"/>\n",
              "    <path d=\"M18.56 5.44l.94 2.06.94-2.06 2.06-.94-2.06-.94-.94-2.06-.94 2.06-2.06.94zm-11 1L8.5 8.5l.94-2.06 2.06-.94-2.06-.94L8.5 2.5l-.94 2.06-2.06.94zm10 10l.94 2.06.94-2.06 2.06-.94-2.06-.94-.94-2.06-.94 2.06-2.06.94z\"/><path d=\"M17.41 7.96l-1.37-1.37c-.4-.4-.92-.59-1.43-.59-.52 0-1.04.2-1.43.59L10.3 9.45l-7.72 7.72c-.78.78-.78 2.05 0 2.83L4 21.41c.39.39.9.59 1.41.59.51 0 1.02-.2 1.41-.59l7.78-7.78 2.81-2.81c.8-.78.8-2.07 0-2.86zM5.41 20L4 18.59l7.72-7.72 1.47 1.35L5.41 20z\"/>\n",
              "  </svg>\n",
              "      </button>\n",
              "      \n",
              "  <style>\n",
              "    .colab-df-container {\n",
              "      display:flex;\n",
              "      flex-wrap:wrap;\n",
              "      gap: 12px;\n",
              "    }\n",
              "\n",
              "    .colab-df-convert {\n",
              "      background-color: #E8F0FE;\n",
              "      border: none;\n",
              "      border-radius: 50%;\n",
              "      cursor: pointer;\n",
              "      display: none;\n",
              "      fill: #1967D2;\n",
              "      height: 32px;\n",
              "      padding: 0 0 0 0;\n",
              "      width: 32px;\n",
              "    }\n",
              "\n",
              "    .colab-df-convert:hover {\n",
              "      background-color: #E2EBFA;\n",
              "      box-shadow: 0px 1px 2px rgba(60, 64, 67, 0.3), 0px 1px 3px 1px rgba(60, 64, 67, 0.15);\n",
              "      fill: #174EA6;\n",
              "    }\n",
              "\n",
              "    [theme=dark] .colab-df-convert {\n",
              "      background-color: #3B4455;\n",
              "      fill: #D2E3FC;\n",
              "    }\n",
              "\n",
              "    [theme=dark] .colab-df-convert:hover {\n",
              "      background-color: #434B5C;\n",
              "      box-shadow: 0px 1px 3px 1px rgba(0, 0, 0, 0.15);\n",
              "      filter: drop-shadow(0px 1px 2px rgba(0, 0, 0, 0.3));\n",
              "      fill: #FFFFFF;\n",
              "    }\n",
              "  </style>\n",
              "\n",
              "      <script>\n",
              "        const buttonEl =\n",
              "          document.querySelector('#df-a9179180-581b-4bdf-9b84-99abc5becaec button.colab-df-convert');\n",
              "        buttonEl.style.display =\n",
              "          google.colab.kernel.accessAllowed ? 'block' : 'none';\n",
              "\n",
              "        async function convertToInteractive(key) {\n",
              "          const element = document.querySelector('#df-a9179180-581b-4bdf-9b84-99abc5becaec');\n",
              "          const dataTable =\n",
              "            await google.colab.kernel.invokeFunction('convertToInteractive',\n",
              "                                                     [key], {});\n",
              "          if (!dataTable) return;\n",
              "\n",
              "          const docLinkHtml = 'Like what you see? Visit the ' +\n",
              "            '<a target=\"_blank\" href=https://colab.research.google.com/notebooks/data_table.ipynb>data table notebook</a>'\n",
              "            + ' to learn more about interactive tables.';\n",
              "          element.innerHTML = '';\n",
              "          dataTable['output_type'] = 'display_data';\n",
              "          await google.colab.output.renderOutput(dataTable, element);\n",
              "          const docLink = document.createElement('div');\n",
              "          docLink.innerHTML = docLinkHtml;\n",
              "          element.appendChild(docLink);\n",
              "        }\n",
              "      </script>\n",
              "    </div>\n",
              "  </div>\n",
              "  "
            ]
          },
          "metadata": {},
          "execution_count": 19
        }
      ]
    }
  ]
}